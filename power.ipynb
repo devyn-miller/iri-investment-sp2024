{
 "cells": [
  {
   "cell_type": "code",
   "execution_count": 3,
   "metadata": {},
   "outputs": [
    {
     "name": "stdout",
     "output_type": "stream",
     "text": [
      "T-statistic: -2.32339856144343, P-value: 0.022203260593790377\n",
      "Power: 0.5082648038718826\n"
     ]
    }
   ],
   "source": [
    "import numpy as np\n",
    "from scipy.stats import ttest_rel\n",
    "from statsmodels.stats.power import TTestPower\n",
    "\n",
    "# Step 1: Simulate data\n",
    "np.random.seed(42)  # For reproducibility\n",
    "mean_day1 = 50\n",
    "mean_day2 = 52  # Assume a slight improvement\n",
    "std_dev = 10  # Standard deviation for both days\n",
    "n_participants = 100  # Number of participants\n",
    "\n",
    "payoff_day1 = np.random.normal(mean_day1, std_dev, n_participants)\n",
    "payoff_day2 = np.random.normal(mean_day2, std_dev, n_participants)\n",
    "\n",
    "# Step 2: Perform Paired Sample T-Test\n",
    "t_statistic, p_value = ttest_rel(payoff_day1, payoff_day2)\n",
    "print(f\"T-statistic: {t_statistic}, P-value: {p_value}\")\n",
    "\n",
    "# Step 3: Conduct Power Analysis\n",
    "effect_size = (mean_day2 - mean_day1) / std_dev\n",
    "analysis = TTestPower()\n",
    "power = analysis.solve_power(effect_size=effect_size, nobs=n_participants, \n",
    "                             alpha=0.05, alternative='two-sided')\n",
    "print(f\"Power: {power}\")"
   ]
  }
 ],
 "metadata": {
  "kernelspec": {
   "display_name": "base",
   "language": "python",
   "name": "python3"
  },
  "language_info": {
   "codemirror_mode": {
    "name": "ipython",
    "version": 3
   },
   "file_extension": ".py",
   "mimetype": "text/x-python",
   "name": "python",
   "nbconvert_exporter": "python",
   "pygments_lexer": "ipython3",
   "version": "3.11.5"
  }
 },
 "nbformat": 4,
 "nbformat_minor": 2
}
