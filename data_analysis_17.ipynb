{
 "cells": [
  {
   "cell_type": "code",
   "execution_count": null,
   "metadata": {},
   "outputs": [],
   "source": []
  },
  {
   "cell_type": "code",
   "execution_count": 2,
   "metadata": {},
   "outputs": [
    {
     "name": "stdout",
     "output_type": "stream",
     "text": [
      "T-statistic: 82.4806445914858, P-value: 0.0\n"
     ]
    }
   ],
   "source": [
    "# import pandas as pd\n",
    "# from scipy import stats\n",
    "\n",
    "# df1 = pd.read_csv('investment_2023-12-11.csv')\n",
    "# df2 = pd.read_csv('investment_S2_2023-12-13.csv')\n",
    "\n",
    "\n",
    "# # Merge datasets on 'SubjectID' to compare the same participants\n",
    "# # Merge datasets on 'SubjectID' to compare the same participants\n",
    "# merged_df = pd.merge(df1, df2, on='SubjectID', suffixes=('_day1', '_day2'))\n",
    "\n",
    "# # Ensure both 'Parts Completed' columns for both days are not NaN by using inner join\n",
    "# merged_df = merged_df.dropna(subset=['Parts Completed_day1', 'Parts Completed_day2'])\n",
    "\n",
    "# # Now, the lengths of parts_completed_day1 and parts_completed_day2 should be equal\n",
    "# parts_completed_day1 = merged_df['Parts Completed_day1']\n",
    "# parts_completed_day2 = merged_df['Parts Completed_day2']\n",
    "\n",
    "# # Perform the paired t-test\n",
    "# t_stat, p_value = stats.ttest_rel(parts_completed_day1, parts_completed_day2)\n",
    "\n",
    "# print(f'T-statistic: {t_stat}, P-value: {p_value}')"
   ]
  },
  {
   "cell_type": "code",
   "execution_count": 3,
   "metadata": {},
   "outputs": [
    {
     "name": "stdout",
     "output_type": "stream",
     "text": [
      "Sample Size: 63.765611775409695\n"
     ]
    }
   ],
   "source": [
    "# from statsmodels.stats.power import TTestIndPower\n",
    "\n",
    "# # Parameters for power analysis\n",
    "# effect_size = 0.5  # assumed effect size (small=0.2, medium=0.5, large=0.8)\n",
    "# alpha = 0.05  # significance level\n",
    "# power = 0.8  # desired power\n",
    "\n",
    "# analysis = TTestIndPower()\n",
    "# sample_size = analysis.solve_power(effect_size=effect_size, power=power, alpha=alpha, ratio=1, alternative='two-sided')\n",
    "\n",
    "# print(f'Sample Size: {sample_size}')"
   ]
  }
 ],
 "metadata": {
  "kernelspec": {
   "display_name": "base",
   "language": "python",
   "name": "python3"
  },
  "language_info": {
   "codemirror_mode": {
    "name": "ipython",
    "version": 3
   },
   "file_extension": ".py",
   "mimetype": "text/x-python",
   "name": "python",
   "nbconvert_exporter": "python",
   "pygments_lexer": "ipython3",
   "version": "3.11.5"
  }
 },
 "nbformat": 4,
 "nbformat_minor": 2
}
